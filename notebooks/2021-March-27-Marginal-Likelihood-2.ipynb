{
 "cells": [
  {
   "cell_type": "code",
   "execution_count": 1,
   "metadata": {},
   "outputs": [],
   "source": [
    "import numpy as np\n",
    "import matplotlib.pyplot as plt"
   ]
  },
  {
   "cell_type": "markdown",
   "metadata": {},
   "source": [
    "From MML book\n",
    "\n",
    "Definition 6.3 (Expected Value). The expected value of a function $g: \\mathbb{R} \\rightarrow$ $\\mathbb{R}$ of a univariate continuous random variable $X \\sim p(x)$ is given by\n",
    "$$\n",
    "\\mathbb{E}_{X}[g(x)]=\\int_{\\mathcal{X}} g(x) p(x) \\mathrm{d} x\n",
    "$$\n",
    "Correspondingly, the expected value of a function $g$ of a discrete random variable $X \\sim p(x)$ is given by\n",
    "$$\n",
    "\\mathbb{E}_{X}[g(x)]=\\sum_{x \\in \\mathcal{X}} g(x) p(x)\n",
    "$$"
   ]
  },
  {
   "cell_type": "markdown",
   "metadata": {},
   "source": [
    "From Nando De Freitas https://www.youtube.com/watch?v=mz3j59aJBZQ&list=PLE6Wd9FR--EdyJ5lbFl8UuGjecvVw66F6&index=16&t=1957s\n",
    "    \n",
    "starting 50 mins"
   ]
  },
  {
   "cell_type": "markdown",
   "metadata": {},
   "source": [
    "$I = \\int_{\\mathcal{X}} g(x)p(x)dx = \\dfrac{\\sum_{i=1}^N g(x_i)}{N}$ where $x_i \\sim p(x)$ is a sample from p(x)"
   ]
  },
  {
   "cell_type": "markdown",
   "metadata": {},
   "source": [
    "Marginal likelihood = $\\int_{\\mathcal{\\theta}} P(D|\\theta) P(\\theta)d\\theta = I = \\dfrac{\\sum_{i=1}^N P(D|\\theta_i)}{N}$ where $\\theta_i$ is drawn from $p(\\theta)$"
   ]
  },
  {
   "cell_type": "code",
   "execution_count": null,
   "metadata": {},
   "outputs": [],
   "source": []
  }
 ],
 "metadata": {
  "kernelspec": {
   "display_name": "Python 3",
   "language": "python",
   "name": "python3"
  },
  "language_info": {
   "codemirror_mode": {
    "name": "ipython",
    "version": 3
   },
   "file_extension": ".py",
   "mimetype": "text/x-python",
   "name": "python",
   "nbconvert_exporter": "python",
   "pygments_lexer": "ipython3",
   "version": "3.8.5"
  }
 },
 "nbformat": 4,
 "nbformat_minor": 4
}
