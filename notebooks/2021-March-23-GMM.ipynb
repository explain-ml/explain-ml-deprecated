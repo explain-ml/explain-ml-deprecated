{
 "cells": [
  {
   "cell_type": "markdown",
   "metadata": {},
   "source": [
    "Expectation Maximisation Based GMM for 1d data"
   ]
  },
  {
   "cell_type": "code",
   "execution_count": 1,
   "metadata": {},
   "outputs": [],
   "source": [
    "import matplotlib.pyplot as plt\n",
    "import numpy as np\n"
   ]
  },
  {
   "cell_type": "code",
   "execution_count": 2,
   "metadata": {},
   "outputs": [],
   "source": [
    "np.random.seed(0)\n",
    "\n",
    "\n",
    "x1 = np.random.normal(0, 1, 20)\n",
    "\n",
    "x2 = np.random.normal(4, 1, 10)\n",
    "\n",
    "\n",
    "x = np.hstack((x1, x2))\n",
    "c_true = np.hstack((np.zeros(len(x1)), np.ones(len(x2))))"
   ]
  },
  {
   "cell_type": "code",
   "execution_count": 3,
   "metadata": {},
   "outputs": [
    {
     "data": {
      "text/plain": [
       "<matplotlib.collections.PathCollection at 0x7fb229bcc3d0>"
      ]
     },
     "execution_count": 3,
     "metadata": {},
     "output_type": "execute_result"
    },
    {
     "data": {
      "image/png": "[encoded data removed]",
      "text/plain": [
       "<Figure size 432x288 with 1 Axes>"
      ]
     },
     "metadata": {
      "needs_background": "light"
     },
     "output_type": "display_data"
    }
   ],
   "source": [
    "plt.scatter(x, np.ones_like(x), c=c_true)"
   ]
  },
  {
   "cell_type": "code",
   "execution_count": 4,
   "metadata": {},
   "outputs": [
    {
     "data": {
      "text/plain": [
       "array([[0.29064816, 0.70935184],\n",
       "       [0.3094859 , 0.6905141 ],\n",
       "       [0.68994443, 0.31005557],\n",
       "       [0.50573667, 0.49426333],\n",
       "       [0.56164474, 0.43835526],\n",
       "       [0.42476113, 0.57523887],\n",
       "       [0.46657066, 0.53342934],\n",
       "       [0.53776294, 0.46223706],\n",
       "       [0.61705372, 0.38294628],\n",
       "       [0.88353452, 0.11646548],\n",
       "       [0.69829084, 0.30170916],\n",
       "       [0.30199472, 0.69800528],\n",
       "       [0.06173353, 0.93826647],\n",
       "       [0.18026879, 0.81973121],\n",
       "       [0.63619042, 0.36380958],\n",
       "       [0.65160037, 0.34839963],\n",
       "       [0.32020833, 0.67979167],\n",
       "       [0.30632592, 0.69367408],\n",
       "       [0.77888842, 0.22111158],\n",
       "       [0.94584755, 0.05415245],\n",
       "       [0.84968314, 0.15031686],\n",
       "       [0.47990395, 0.52009605],\n",
       "       [0.37008784, 0.62991216],\n",
       "       [0.60069607, 0.39930393],\n",
       "       [0.84725969, 0.15274031],\n",
       "       [0.56397057, 0.43602943],\n",
       "       [0.23260953, 0.76739047],\n",
       "       [0.43977247, 0.56022753],\n",
       "       [0.86757617, 0.13242383],\n",
       "       [0.50383514, 0.49616486]])"
      ]
     },
     "execution_count": 4,
     "metadata": {},
     "output_type": "execute_result"
    }
   ],
   "source": [
    "n_points = len(x)\n",
    "n_clusters = 2\n",
    "\n",
    "responsibility = np.abs(np.random.randn(n_points, n_clusters))\n",
    "responsibility = responsibility/responsibility.sum(axis=1).reshape(-1, 1)\n",
    "responsibility"
   ]
  },
  {
   "cell_type": "markdown",
   "metadata": {},
   "source": [
    "# Step 1\n",
    "\n",
    "Randomly assign points to cluster"
   ]
  },
  {
   "cell_type": "markdown",
   "metadata": {},
   "source": [
    "## Get MLE estimate"
   ]
  },
  {
   "cell_type": "code",
   "execution_count": null,
   "metadata": {},
   "outputs": [],
   "source": [
    "\n",
    "\n"
   ]
  },
  {
   "cell_type": "code",
   "execution_count": 5,
   "metadata": {},
   "outputs": [],
   "source": [
    "means = {}\n",
    "variances = {}\n",
    "pis = {}\n",
    "num_points = {}\n",
    "\n",
    "for cl in range(n_clusters):\n",
    "    num_points[cl] = np.sum(responsibility[:, cl])\n",
    "    means[cl] = np.sum(responsibility[:, cl]*x)/num_points[cl]\n",
    "    variances[cl] =(responsibility[:, cl]*(x-means[cl]))@(x-means[cl])/num_points[cl]\n",
    "    pis[cl] = num_points[cl]/len(x)*1."
   ]
  },
  {
   "cell_type": "code",
   "execution_count": 6,
   "metadata": {},
   "outputs": [
    {
     "data": {
      "text/plain": [
       "{0: 1.811202547690311, 1: 1.7365808845178283}"
      ]
     },
     "execution_count": 6,
     "metadata": {},
     "output_type": "execute_result"
    }
   ],
   "source": [
    "means"
   ]
  },
  {
   "cell_type": "code",
   "execution_count": 7,
   "metadata": {},
   "outputs": [
    {
     "data": {
      "text/plain": [
       "{0: 4.606243116499825, 1: 3.4207043429407005}"
      ]
     },
     "execution_count": 7,
     "metadata": {},
     "output_type": "execute_result"
    }
   ],
   "source": [
    "variances"
   ]
  },
  {
   "cell_type": "code",
   "execution_count": 8,
   "metadata": {},
   "outputs": [
    {
     "data": {
      "text/plain": [
       "{0: 0.5307962111099872, 1: 0.46920378889001285}"
      ]
     },
     "execution_count": 8,
     "metadata": {},
     "output_type": "execute_result"
    }
   ],
   "source": [
    "pis"
   ]
  },
  {
   "cell_type": "markdown",
   "metadata": {},
   "source": [
    "## Getting state distribution"
   ]
  },
  {
   "cell_type": "code",
   "execution_count": 9,
   "metadata": {},
   "outputs": [],
   "source": [
    "from scipy.stats import norm\n"
   ]
  },
  {
   "cell_type": "code",
   "execution_count": null,
   "metadata": {},
   "outputs": [],
   "source": []
  },
  {
   "cell_type": "code",
   "execution_count": 10,
   "metadata": {},
   "outputs": [],
   "source": [
    "\n",
    "for i, point in enumerate(x):\n",
    "    for cl in range(n_clusters):\n",
    "        responsibility[i, cl] = norm.pdf(point, means[cl], np.sqrt(variances[cl]))*pis[cl]\n",
    "    responsibility[i] = responsibility[i]/np.sum(responsibility[i])\n",
    "        \n"
   ]
  },
  {
   "cell_type": "code",
   "execution_count": 11,
   "metadata": {},
   "outputs": [
    {
     "data": {
      "text/plain": [
       "array([[0.49360708, 0.50639292],\n",
       "       [0.50487343, 0.49512657],\n",
       "       [0.49582077, 0.50417923],\n",
       "       [0.49792287, 0.50207713],\n",
       "       [0.49418044, 0.50581956],\n",
       "       [0.55158183, 0.44841817],\n",
       "       [0.49612085, 0.50387915],\n",
       "       [0.51935518, 0.48064482],\n",
       "       [0.51786449, 0.48213551],\n",
       "       [0.50465429, 0.49534571],\n",
       "       [0.5108898 , 0.4891102 ],\n",
       "       [0.49309502, 0.50690498],\n",
       "       [0.49848808, 0.50151192],\n",
       "       [0.5114737 , 0.4885263 ],\n",
       "       [0.50396978, 0.49603022],\n",
       "       [0.50631684, 0.49368316],\n",
       "       [0.49305976, 0.50694024],\n",
       "       [0.52107231, 0.47892769],\n",
       "       [0.50678108, 0.49321892],\n",
       "       [0.54598902, 0.45401098],\n",
       "       [0.49310467, 0.50689533],\n",
       "       [0.58451256, 0.41548744],\n",
       "       [0.59692852, 0.40307148],\n",
       "       [0.52140182, 0.47859818],\n",
       "       [0.69433778, 0.30566222],\n",
       "       [0.5029213 , 0.4970787 ],\n",
       "       [0.55279391, 0.44720609],\n",
       "       [0.54233861, 0.45766139],\n",
       "       [0.640516  , 0.359484  ],\n",
       "       [0.6361317 , 0.3638683 ]])"
      ]
     },
     "execution_count": 11,
     "metadata": {},
     "output_type": "execute_result"
    }
   ],
   "source": [
    "responsibility"
   ]
  },
  {
   "cell_type": "code",
   "execution_count": null,
   "metadata": {},
   "outputs": [],
   "source": []
  },
  {
   "cell_type": "code",
   "execution_count": 12,
   "metadata": {},
   "outputs": [
    {
     "data": {
      "text/plain": [
       "(0.10119659488606768, 0.0779536130090353)"
      ]
     },
     "execution_count": 12,
     "metadata": {},
     "output_type": "execute_result"
    }
   ],
   "source": [
    "norm.pdf(x[0], means[cl], np.sqrt(variances[cl]))*pis[cl], norm.pdf(x[1], means[cl], np.sqrt(variances[cl]))*pis[cl]"
   ]
  },
  {
   "cell_type": "code",
   "execution_count": 13,
   "metadata": {},
   "outputs": [],
   "source": [
    "import os"
   ]
  },
  {
   "cell_type": "markdown",
   "metadata": {},
   "source": [
    "Total"
   ]
  },
  {
   "cell_type": "code",
   "execution_count": 14,
   "metadata": {},
   "outputs": [
    {
     "name": "stdout",
     "output_type": "stream",
     "text": [
      "{0: 1.9173980573008533, 1: 1.6162692922638195}\n",
      "{0: 2.002619693260101, 1: 1.519955033469756}\n",
      "{0: 2.102587247291366, 1: 1.4076599938452945}\n",
      "{0: 2.234860495754749, 1: 1.2612433708062132}\n",
      "{0: 2.409822408413753, 1: 1.075023378426826}\n",
      "{0: 2.6273490967019537, 1: 0.8670287163501723}\n",
      "{0: 2.8679135871140335, 1: 0.6884976557737934}\n",
      "{0: 3.090351602442461, 1: 0.575666616049015}\n",
      "{0: 3.2589719217000677, 1: 0.5124417667388845}\n",
      "{0: 3.3795334341758263, 1: 0.4787295498248887}\n",
      "{0: 3.470402743321426, 1: 0.46358566682442165}\n",
      "{0: 3.544402980954772, 1: 0.45969382622036614}\n",
      "{0: 3.6089460263278226, 1: 0.4621878714134998}\n",
      "{0: 3.6681803888102995, 1: 0.4681319303944199}\n",
      "{0: 3.724392231940696, 1: 0.4758843379666043}\n",
      "{0: 3.7788207349742944, 1: 0.4845790199544586}\n",
      "{0: 3.832126737248982, 1: 0.49378580238635583}\n",
      "{0: 3.8846530601965763, 1: 0.5033071913277888}\n",
      "{0: 3.936562154798014, 1: 0.5130620927376859}\n",
      "{0: 3.9879051181374807, 1: 0.5230212290869529}\n",
      "{0: 4.03865462028011, 1: 0.5331720912958502}\n",
      "{0: 4.088720313810327, 1: 0.543500279923096}\n",
      "{0: 4.137956861396724, 1: 0.553979811140093}\n",
      "{0: 4.186169874861538, 1: 0.5645684164742939}\n",
      "{0: 4.233122353664445, 1: 0.5752058448439671}\n",
      "{0: 4.278542733764837, 1: 0.5858142361814603}\n",
      "{0: 4.322134921136155, 1: 0.5963001531741339}\n",
      "{0: 4.363590433078926, 1: 0.60655807826217}\n",
      "{0: 4.402602805663941, 1: 0.6164752539882346}\n",
      "{0: 4.438884476609376, 1: 0.6259377265203924}\n",
      "{0: 4.472186063608589, 1: 0.6348373392032696}\n",
      "{0: 4.502317039406404, 1: 0.6430791920830646}\n",
      "{0: 4.5291653232865565, 1: 0.650588765172662}\n",
      "{0: 4.552711908597285, 1: 0.6573176337511588}\n",
      "{0: 4.573036373882154, 1: 0.6632466896762728}\n",
      "{0: 4.590310720466471, 1: 0.6683861624632994}\n",
      "{0: 4.604782090700303, 1: 0.6727724356153577}\n",
      "{0: 4.616748086344956, 1: 0.6764623962996104}\n",
      "{0: 4.626530043405967, 1: 0.6795265270080368}\n",
      "{0: 4.6344491586930765, 1: 0.6820419994453255}\n",
      "{0: 4.640808466256017, 1: 0.6840867353877472}\n",
      "{0: 4.64588149765696, 1: 0.6857349501194607}\n",
      "{0: 4.649906882700217, 1: 0.6870542754188016}\n",
      "{0: 4.653087403401622, 1: 0.688104273092836}\n",
      "{0: 4.655591925991597, 1: 0.688936014107949}\n",
      "{0: 4.657558899994966, 1: 0.6895923785626986}\n",
      "{0: 4.659100485262924, 1: 0.6901087791615026}\n",
      "{0: 4.660306710532394, 1: 0.6905140840004895}\n",
      "{0: 4.661249329423213, 1: 0.6908315871101585}\n",
      "{0: 4.661985218314987, 1: 0.6910799348974195}\n"
     ]
    },
    {
     "data": {
      "text/plain": [
       "<Figure size 432x288 with 0 Axes>"
      ]
     },
     "metadata": {},
     "output_type": "display_data"
    }
   ],
   "source": [
    "x_pl = np.linspace(-5, 15, 1000)\n",
    "for iteration in range(50):\n",
    "\n",
    "    means = {}\n",
    "    variances = {}\n",
    "    pis = {}\n",
    "    num_points = {}\n",
    "\n",
    "    for cl in range(n_clusters):\n",
    "        num_points[cl] = np.sum(responsibility[:, cl])\n",
    "        means[cl] = np.sum(responsibility[:, cl]*x)/num_points[cl]\n",
    "        variances[cl] =(responsibility[:, cl]*(x-means[cl]))@(x-means[cl])/num_points[cl]\n",
    "        pis[cl] = num_points[cl]/len(x)*1.\n",
    "    print(means)\n",
    "    norm_obj = {}\n",
    "    for cl in range(n_clusters):\n",
    "        norm_obj[cl] = norm(loc=means[cl], scale=np.sqrt(variances[cl]))\n",
    "        plt.plot(x_pl, norm_obj[cl].pdf(x_pl),\n",
    "                lw=3, alpha=0.6, label='Cluster {}'.format(cl))\n",
    "    plt.legend()\n",
    "    plt.scatter(x, np.zeros_like(x), c='k', s=300, marker='|')\n",
    "    plt.title(\"Iteration: {}\".format(str(iteration).zfill(2)))\n",
    "    plt.savefig(os.path.expanduser(\"~/git/explain-ml/figs/gmm/{}.jpg\".format(str(iteration).zfill(2))))\n",
    "    \n",
    "    plt.clf()\n",
    "    for i, point in enumerate(x):\n",
    "        for cl in range(n_clusters):\n",
    "            responsibility[i, cl] = norm.pdf(point, means[cl], np.sqrt(variances[cl]))*pis[cl]\n",
    "        responsibility[i] = responsibility[i]/np.sum(responsibility[i])\n",
    "\n",
    "    \n"
   ]
  },
  {
   "cell_type": "code",
   "execution_count": 21,
   "metadata": {},
   "outputs": [],
   "source": [
    "!convert -delay 20 -loop 0 ../figs/gmm/*.jpg ../figs/gmm/gmm.gif"
   ]
  },
  {
   "cell_type": "markdown",
   "metadata": {},
   "source": [
    "![](/Users/nipun/git/explain-ml/figs/gmm.gif)"
   ]
  },
  {
   "cell_type": "code",
   "execution_count": 22,
   "metadata": {},
   "outputs": [],
   "source": [
    "    !pip install -q mediapy\n"
   ]
  },
  {
   "cell_type": "code",
   "execution_count": 23,
   "metadata": {},
   "outputs": [],
   "source": [
    "import mediapy as media"
   ]
  },
  {
   "cell_type": "code",
   "execution_count": 29,
   "metadata": {},
   "outputs": [
    {
     "data": {
      "text/html": [
       "<table style=\"border-spacing:0;\"><tr><td><video controls width=\"432\" height=\"288\" style=\"object-fit:cover;\" loop autoplay>\n",
       "      <source src=\"data:video/mp4;base64,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\" type=\"video/mp4\"/>\n",
       "      This browser does not support the video tag.\n",
       "      </video></td></tr></table>"
      ],
      "text/plain": [
       "<IPython.core.display.HTML object>"
      ]
     },
     "metadata": {},
     "output_type": "display_data"
    }
   ],
   "source": [
    "media.show_video(media.read_video(\"../figs/gmm.gif\"), fps=2)"
   ]
  },
  {
   "cell_type": "code",
   "execution_count": 539,
   "metadata": {},
   "outputs": [],
   "source": [
    "from scipy.stats import multivariate_normal\n",
    "class GMM:\n",
    "    def __init__(self, n_clusters=2, random_seed=0):\n",
    "        self.n_clusters = n_clusters\n",
    "        np.random.seed(random_seed)\n",
    "    \n",
    "    def fit(self, X, n_iter=100):\n",
    "        self.n_samples, self.dim = X.shape\n",
    "        self.n_iter = n_iter\n",
    "        self.X = X\n",
    "        self.responsibility = np.abs(np.random.random(size=(self.n_samples, self.n_clusters)))\n",
    "        self.responsibility = self.responsibility/self.responsibility.sum(axis=1).reshape(-1, 1)\n",
    "        self.means = {}\n",
    "        self.covariances = {}\n",
    "        self.pis = {}\n",
    "        self.num_points = {}\n",
    "        \n",
    "        from sklearn.cluster import KMeans\n",
    "        km = KMeans(n_clusters=self.n_clusters)\n",
    "        km.fit(X)\n",
    "        \n",
    "        for cl in range(self.n_clusters):\n",
    "            self.pis[cl] = np.random.random()\n",
    "            #self.means[cl] = np.random.randn(self.dim)\n",
    "            self.means[cl] = km.cluster_centers_[cl]\n",
    "            temp = np.abs(np.random.randn(self.dim, self.dim))\n",
    "            self.covariances[cl] = np.transpose(temp)@temp\n",
    "            self.covariances[cl] = 0.5+np.random.uniform()*np.ones((self.dim, self.dim))\n",
    "            self.covariances[cl] = self.covariances[cl] - 0.1*np.eye(self.dim, self.dim)\n",
    "            self.covariances[cl] = self.covariances[cl].T@self.covariances[cl]\n",
    "            print(self.covariances[cl])\n",
    "            #print(self.covariances[cl].shape)\n",
    "        print(self.means)\n",
    "        # Normalizing pi\n",
    "        for cl in range(self.n_clusters):\n",
    "            #self.pis[cl] = self.pis[cl]/np.sum(list(self.pis.values()))\n",
    "            self.pis[cl] = 1.0/self.n_clusters\n",
    "        for i in range(self.n_iter):\n",
    "            #self.m_step()\n",
    "            self.e_step()\n",
    "            self.m_step()\n",
    "            print(\"****\"*20, \"Iteration:\", i)\n",
    "            print(self.means)\n",
    "            \n",
    "    \n",
    "    def e_step(self):\n",
    "        #print(\"----\"*10+\"E-Step\")\n",
    "        self.norm_obj = {}\n",
    "        for cl in range(self.n_clusters):\n",
    "            self.norm_obj[cl] = multivariate_normal(mean=self.means[cl], cov=self.covariances[cl])\n",
    "        \n",
    "        for i, point in enumerate(self.X):\n",
    "            for cl in range(n_clusters):\n",
    "                self.responsibility[i, cl] = self.norm_obj[cl].pdf(point)*self.pis[cl]\n",
    "        \n",
    "            self.responsibility[i] = self.responsibility[i]/np.sum(self.responsibility[i])\n",
    "\n",
    "        #print(self.responsibility)\n",
    "        \n",
    "        \n",
    "        \n",
    "    \n",
    "    def m_step(self):\n",
    "        #print(\"----\"*10+\"M-Step\")\n",
    "        for cl in range(self.n_clusters):\n",
    "            #print(\"--\"*20)\n",
    "            self.num_points[cl] = np.sum(self.responsibility[:, cl])\n",
    "            self.means[cl] = np.sum(self.responsibility[:, cl].reshape(-1, 1)*self.X, axis=0)/self.num_points[cl]\n",
    "            self.covariances[cl] = 0.1*np.eye(self.dim, self.dim)+((g.X-g.means[0]).T* g.responsibility[:, 0])@(self.X-self.means[cl])/self.num_points[cl]\n",
    "            self.pis[cl] = self.num_points[cl]/len(self.X)*1.\n",
    "        print(self.covariances)\n",
    "    \n",
    "\n"
   ]
  },
  {
   "cell_type": "code",
   "execution_count": 540,
   "metadata": {},
   "outputs": [],
   "source": [
    "X, y = make_blobs(cluster_std=0.3)\n",
    "g = GMM(n_clusters=3)"
   ]
  },
  {
   "cell_type": "code",
   "execution_count": 541,
   "metadata": {},
   "outputs": [],
   "source": [
    "from sklearn.datasets import make_blobs"
   ]
  },
  {
   "cell_type": "code",
   "execution_count": null,
   "metadata": {},
   "outputs": [],
   "source": []
  },
  {
   "cell_type": "code",
   "execution_count": 542,
   "metadata": {},
   "outputs": [
    {
     "name": "stdout",
     "output_type": "stream",
     "text": [
      "[[1.52067793 1.51067793]\n",
      " [1.51067793 1.52067793]]\n",
      "[[0.51580641 0.50580641]\n",
      " [0.50580641 0.51580641]]\n",
      "[[1.0810998 1.0710998]\n",
      " [1.0710998 1.0810998]]\n",
      "{0: array([-2.362242  , -6.45944004]), 1: array([4.00096528, 5.58686895]), 2: array([ 5.69944572, -8.95741097])}\n",
      "{0: array([[0.14105041, 0.02976553],\n",
      "       [0.02976553, 0.14053577]]), 1: array([[0.13433365, 0.02489522],\n",
      "       [0.02489522, 0.13390321]]), 2: array([[0.10329214, 0.00238712],\n",
      "       [0.00238712, 0.10325086]])}\n",
      "******************************************************************************** Iteration: 0\n",
      "{0: array([-2.36386576, -6.48548318]), 1: array([3.9701034 , 5.61035031]), 2: array([ 2.62911426, -3.90889871])}\n",
      "{0: array([[0.14263929, 0.01026418],\n",
      "       [0.01026418, 0.13796932]]), 1: array([[0.13542845, 0.00852838],\n",
      "       [0.00852838, 0.13154824]]), 2: array([[0.10121681, 0.00029291],\n",
      "       [0.00029291, 0.10108354]])}\n",
      "******************************************************************************** Iteration: 1\n",
      "{0: array([-2.3863911 , -6.49813729]), 1: array([3.96501343, 5.59489893]), 2: array([ 2.48068554, -3.52325694])}\n",
      "{0: array([[0.14968687, 0.00111319],\n",
      "       [0.00111319, 0.14270398]]), 1: array([[0.14340985, 0.00097256],\n",
      "       [0.00097256, 0.13730912]]), 2: array([[1.00378281e-01, 8.47504596e-06],\n",
      "       [8.47504596e-06, 1.00325119e-01]])}\n",
      "******************************************************************************** Iteration: 2\n",
      "{0: array([-2.38202282, -6.48307199]), 1: array([3.97868179, 5.60679964]), 2: array([ 2.42059035, -3.36200885])}\n",
      "{0: array([[ 0.15324512, -0.00073853],\n",
      "       [-0.00073853,  0.14532663]]), 1: array([[ 0.15056922, -0.00070141],\n",
      "       [-0.00070141,  0.14304869]]), 2: array([[ 1.00100554e-01, -1.39472433e-06],\n",
      "       [-1.39472433e-06,  1.00085600e-01]])}\n",
      "******************************************************************************** Iteration: 3\n",
      "{0: array([-2.37962599, -6.4750233 ]), 1: array([3.99024307, 5.61474189]), 2: array([ 2.40382979, -3.32025182])}\n",
      "{0: array([[ 0.1540128 , -0.00098   ],\n",
      "       [-0.00098   ,  0.14571794]]), 1: array([[ 0.15673816, -0.00102945],\n",
      "       [-0.00102945,  0.14802476]]), 2: array([[ 1.00024835e-01, -4.50602348e-07],\n",
      "       [-4.50602348e-07,  1.00021021e-01]])}\n",
      "******************************************************************************** Iteration: 4\n",
      "{0: array([-2.3789229 , -6.47213824]), 1: array([3.99519794, 5.61689865]), 2: array([ 2.39947063, -3.31094059])}\n",
      "{0: array([[ 0.15418213, -0.00099994],\n",
      "       [-0.00099994,  0.1457709 ]]), 1: array([[ 0.16427432, -0.0011862 ],\n",
      "       [-0.0011862 ,  0.15429638]]), 2: array([[ 1.00006043e-01, -1.11521850e-07],\n",
      "       [-1.11521850e-07,  1.00005105e-01]])}\n",
      "******************************************************************************** Iteration: 5\n",
      "{0: array([-2.3787124 , -6.47119077]), 1: array([3.99719249, 5.61686516]), 2: array([ 2.39835573, -3.30897488])}\n",
      "{0: array([[ 0.15422381, -0.00099874],\n",
      "       [-0.00099874,  0.14577856]]), 1: array([[ 0.17462676, -0.00137454],\n",
      "       [-0.00137454,  0.1630038 ]]), 2: array([[ 1.00001466e-01, -2.69964401e-08],\n",
      "       [-2.69964401e-08,  1.00001237e-01]])}\n",
      "******************************************************************************** Iteration: 6\n",
      "{0: array([-2.37864642, -6.47088636]), 1: array([3.99821147, 5.61588988]), 2: array([ 2.39807104, -3.30857827])}\n",
      "{0: array([[ 0.15423485, -0.00099738],\n",
      "       [-0.00099738,  0.14577963]]), 1: array([[ 0.18981656, -0.00165173],\n",
      "       [-0.00165173,  0.17581416]]), 2: array([[ 1.00000355e-01, -6.53277249e-09],\n",
      "       [-6.53277249e-09,  1.00000300e-01]])}\n",
      "******************************************************************************** Iteration: 7\n",
      "{0: array([-2.37862517, -6.47078926]), 1: array([3.99899668, 5.61432241]), 2: array([ 2.39799831, -3.30850306])}\n",
      "{0: array([[ 0.1542379 , -0.00099681],\n",
      "       [-0.00099681,  0.14577973]]), 1: array([[ 0.21378657, -0.00209121],\n",
      "       [-0.00209121,  0.19604205]]), 2: array([[ 1.00000086e-01, -1.58201845e-09],\n",
      "       [-1.58201845e-09,  1.00000073e-01]])}\n",
      "******************************************************************************** Iteration: 8\n",
      "{0: array([-2.37861821, -6.47075838]), 1: array([3.99979974, 5.61219769]), 2: array([ 2.39797972, -3.30849021])}\n",
      "{0: array([[ 0.15423876, -0.0009966 ],\n",
      "       [-0.0009966 ,  0.14577972]]), 1: array([[ 0.25556789, -0.00285845],\n",
      "       [-0.00285845,  0.23130562]]), 2: array([[ 1.00000021e-01, -3.83248308e-10],\n",
      "       [-3.83248308e-10,  1.00000018e-01]])}\n",
      "******************************************************************************** Iteration: 9\n",
      "{0: array([-2.37861592, -6.47074859]), 1: array([4.00068924, 5.60940879]), 2: array([ 2.39797497, -3.30848846])}\n",
      "{0: array([[ 0.15423901, -0.00099653],\n",
      "       [-0.00099653,  0.1457797 ]]), 1: array([[ 0.33994667, -0.00440852],\n",
      "       [-0.00440852,  0.30252373]]), 2: array([[ 1.00000005e-01, -9.28552693e-11],\n",
      "       [-9.28552693e-11,  1.00000004e-01]])}\n",
      "******************************************************************************** Iteration: 10\n",
      "{0: array([-2.37861515, -6.47074549]), 1: array([4.00162392, 5.60576769]), 2: array([ 2.39797376, -3.30848837])}\n",
      "{0: array([[ 0.15423908, -0.00099651],\n",
      "       [-0.00099651,  0.14577969]]), 1: array([[ 0.55520863, -0.00836331],\n",
      "       [-0.00836331,  0.48421209]]), 2: array([[ 1.00000001e-01, -2.24984622e-11],\n",
      "       [-2.24984622e-11,  1.00000001e-01]])}\n",
      "******************************************************************************** Iteration: 11\n",
      "{0: array([-2.37861489, -6.4707445 ]), 1: array([4.00240555, 5.60109165]), 2: array([ 2.39797345, -3.30848843])}\n",
      "{0: array([[ 0.1542391 , -0.0009965 ],\n",
      "       [-0.0009965 ,  0.14577969]]), 1: array([[ 1.37695232, -0.02346058],\n",
      "       [-0.02346058,  1.17779213]]), 2: array([[ 1.00000000e-01, -5.45137246e-12],\n",
      "       [-5.45137246e-12,  1.00000000e-01]])}\n",
      "******************************************************************************** Iteration: 12\n",
      "{0: array([-2.37861481, -6.47074419]), 1: array([4.00261346, 5.59551504]), 2: array([ 2.39797338, -3.30848846])}\n",
      "{0: array([[ 0.15423911, -0.0009965 ],\n",
      "       [-0.0009965 ,  0.14577969]]), 1: array([[ 8.1226129 , -0.14739361],\n",
      "       [-0.14739361,  6.87136313]]), 2: array([[ 1.00000000e-01, -1.32087319e-12],\n",
      "       [-1.32087319e-12,  1.00000000e-01]])}\n",
      "******************************************************************************** Iteration: 13\n",
      "{0: array([-2.37861478, -6.4707441 ]), 1: array([4.00195018, 5.59023856]), 2: array([ 2.39797336, -3.30848847])}\n",
      "{0: array([[ 0.15423911, -0.00099649],\n",
      "       [-0.00099649,  0.14577969]]), 1: array([[279.80482598,  -5.13880789],\n",
      "       [ -5.13880789, 236.18054948]]), 2: array([[ 1.00000000e-01, -3.20049493e-13],\n",
      "       [-3.20049493e-13,  1.00000000e-01]])}\n",
      "******************************************************************************** Iteration: 14\n",
      "{0: array([-2.37861477, -6.47074406]), 1: array([4.00114927, 5.58737207]), 2: array([ 2.39797335, -3.30848848])}\n",
      "{0: array([[ 0.15423911, -0.00099649],\n",
      "       [-0.00099649,  0.14577969]]), 1: array([[141925.38667428,  -2607.48653769],\n",
      "       [ -2607.48653768, 119789.95018868]]), 2: array([[ 1.00000000e-01, -7.75485011e-14],\n",
      "       [-7.75485011e-14,  1.00000000e-01]])}\n",
      "******************************************************************************** Iteration: 15\n",
      "{0: array([-2.37861476, -6.47074405]), 1: array([ 2.55658491, -1.98414921]), 2: array([ 2.39797335, -3.30848848])}\n",
      "{0: array([[ 0.15423911, -0.00099649],\n",
      "       [-0.00099649,  0.14577969]]), 1: array([[ 2.81737295e+10, -5.17614690e+08],\n",
      "       [-5.17614690e+08,  2.37796019e+10]]), 2: array([[ 1.00000000e-01, -1.87901286e-14],\n",
      "       [-1.87901286e-14,  1.00000000e-01]])}\n",
      "******************************************************************************** Iteration: 16\n",
      "{0: array([-2.37861476, -6.47074405]), 1: array([ 2.39786509, -3.30859485]), 2: array([ 2.39797335, -3.30848848])}\n",
      "{0: array([[ 0.15423911, -0.00099649],\n",
      "       [-0.00099649,  0.14577969]]), 1: array([[ 1.10998778e+21, -2.03929680e+19],\n",
      "       [-2.03929680e+19,  9.36868072e+20]]), 2: array([[ 1.00000000e-01, -4.55287918e-15],\n",
      "       [-4.55287918e-15,  1.00000000e-01]])}\n",
      "******************************************************************************** Iteration: 17\n",
      "{0: array([-2.37861476, -6.47074405]), 1: array([ 2.39797335, -3.30848848]), 2: array([ 2.39797335, -3.30848848])}\n",
      "{0: array([[ 0.15423911, -0.00099649],\n",
      "       [-0.00099649,  0.14577969]]), 1: array([[ 1.72292319e+42, -3.16539674e+40],\n",
      "       [-3.16539674e+40,  1.45420675e+42]]), 2: array([[ 1.00000000e-01, -1.10317016e-15],\n",
      "       [-1.10317016e-15,  1.00000000e-01]])}\n",
      "******************************************************************************** Iteration: 18\n",
      "{0: array([-2.37861476, -6.47074405]), 1: array([ 2.39797335, -3.30848848]), 2: array([ 2.39797335, -3.30848848])}\n",
      "{0: array([[ 0.15423911, -0.00099649],\n",
      "       [-0.00099649,  0.14577969]]), 1: array([[ 4.15108235e+84, -7.62647027e+82],\n",
      "       [-7.62647027e+82,  3.50365704e+84]]), 2: array([[ 1.00000000e-01, -2.67299959e-16],\n",
      "       [-2.67299959e-16,  1.00000000e-01]])}\n",
      "******************************************************************************** Iteration: 19\n",
      "{0: array([-2.37861476, -6.47074405]), 1: array([ 2.39797335, -3.30848848]), 2: array([ 2.39797335, -3.30848848])}\n",
      "{0: array([[ 0.15423911, -0.00099649],\n",
      "       [-0.00099649,  0.14577969]]), 1: array([[ 2.40964029e+169, -4.42705021e+167],\n",
      "       [-4.42705021e+167,  2.03381972e+169]]), 2: array([[ 1.00000000e-01, -6.47672232e-17],\n",
      "       [-6.47672232e-17,  1.00000000e-01]])}\n",
      "******************************************************************************** Iteration: 20\n",
      "{0: array([-2.37861476, -6.47074405]), 1: array([ 2.39797335, -3.30848848]), 2: array([ 2.39797335, -3.30848848])}\n",
      "{0: array([[ 0.15423911, -0.00099649],\n",
      "       [-0.00099649,  0.14577969]]), 1: array([[nan, nan],\n",
      "       [nan, nan]]), 2: array([[ 1.00000000e-01, -1.56932056e-17],\n",
      "       [-1.56932056e-17,  1.00000000e-01]])}\n",
      "******************************************************************************** Iteration: 21\n",
      "{0: array([-2.37861476, -6.47074405]), 1: array([nan, nan]), 2: array([ 2.39797335, -3.30848848])}\n"
     ]
    },
    {
     "name": "stderr",
     "output_type": "stream",
     "text": [
      "<ipython-input-539-c680930228cf>:68: RuntimeWarning: invalid value encountered in true_divide\n",
      "  self.means[cl] = np.sum(self.responsibility[:, cl].reshape(-1, 1)*self.X, axis=0)/self.num_points[cl]\n"
     ]
    },
    {
     "ename": "ValueError",
     "evalue": "array must not contain infs or NaNs",
     "output_type": "error",
     "traceback": [
      "\u001b[0;31m---------------------------------------------------------------------------\u001b[0m",
      "\u001b[0;31mValueError\u001b[0m                                Traceback (most recent call last)",
      "\u001b[0;32m<ipython-input-542-9b4faa679666>\u001b[0m in \u001b[0;36m<module>\u001b[0;34m\u001b[0m\n\u001b[0;32m----> 1\u001b[0;31m \u001b[0mg\u001b[0m\u001b[0;34m.\u001b[0m\u001b[0mfit\u001b[0m\u001b[0;34m(\u001b[0m\u001b[0mX\u001b[0m\u001b[0;34m,\u001b[0m \u001b[0mn_iter\u001b[0m\u001b[0;34m=\u001b[0m\u001b[0;36m50\u001b[0m\u001b[0;34m,\u001b[0m \u001b[0;34m)\u001b[0m\u001b[0;34m\u001b[0m\u001b[0;34m\u001b[0m\u001b[0m\n\u001b[0m",
      "\u001b[0;32m<ipython-input-539-c680930228cf>\u001b[0m in \u001b[0;36mfit\u001b[0;34m(self, X, n_iter)\u001b[0m\n\u001b[1;32m     38\u001b[0m         \u001b[0;32mfor\u001b[0m \u001b[0mi\u001b[0m \u001b[0;32min\u001b[0m \u001b[0mrange\u001b[0m\u001b[0;34m(\u001b[0m\u001b[0mself\u001b[0m\u001b[0;34m.\u001b[0m\u001b[0mn_iter\u001b[0m\u001b[0;34m)\u001b[0m\u001b[0;34m:\u001b[0m\u001b[0;34m\u001b[0m\u001b[0;34m\u001b[0m\u001b[0m\n\u001b[1;32m     39\u001b[0m             \u001b[0;31m#self.m_step()\u001b[0m\u001b[0;34m\u001b[0m\u001b[0;34m\u001b[0m\u001b[0;34m\u001b[0m\u001b[0m\n\u001b[0;32m---> 40\u001b[0;31m             \u001b[0mself\u001b[0m\u001b[0;34m.\u001b[0m\u001b[0me_step\u001b[0m\u001b[0;34m(\u001b[0m\u001b[0;34m)\u001b[0m\u001b[0;34m\u001b[0m\u001b[0;34m\u001b[0m\u001b[0m\n\u001b[0m\u001b[1;32m     41\u001b[0m             \u001b[0mself\u001b[0m\u001b[0;34m.\u001b[0m\u001b[0mm_step\u001b[0m\u001b[0;34m(\u001b[0m\u001b[0;34m)\u001b[0m\u001b[0;34m\u001b[0m\u001b[0;34m\u001b[0m\u001b[0m\n\u001b[1;32m     42\u001b[0m             \u001b[0mprint\u001b[0m\u001b[0;34m(\u001b[0m\u001b[0;34m\"****\"\u001b[0m\u001b[0;34m*\u001b[0m\u001b[0;36m20\u001b[0m\u001b[0;34m,\u001b[0m \u001b[0;34m\"Iteration:\"\u001b[0m\u001b[0;34m,\u001b[0m \u001b[0mi\u001b[0m\u001b[0;34m)\u001b[0m\u001b[0;34m\u001b[0m\u001b[0;34m\u001b[0m\u001b[0m\n",
      "\u001b[0;32m<ipython-input-539-c680930228cf>\u001b[0m in \u001b[0;36me_step\u001b[0;34m(self)\u001b[0m\n\u001b[1;32m     48\u001b[0m         \u001b[0mself\u001b[0m\u001b[0;34m.\u001b[0m\u001b[0mnorm_obj\u001b[0m \u001b[0;34m=\u001b[0m \u001b[0;34m{\u001b[0m\u001b[0;34m}\u001b[0m\u001b[0;34m\u001b[0m\u001b[0;34m\u001b[0m\u001b[0m\n\u001b[1;32m     49\u001b[0m         \u001b[0;32mfor\u001b[0m \u001b[0mcl\u001b[0m \u001b[0;32min\u001b[0m \u001b[0mrange\u001b[0m\u001b[0;34m(\u001b[0m\u001b[0mself\u001b[0m\u001b[0;34m.\u001b[0m\u001b[0mn_clusters\u001b[0m\u001b[0;34m)\u001b[0m\u001b[0;34m:\u001b[0m\u001b[0;34m\u001b[0m\u001b[0;34m\u001b[0m\u001b[0m\n\u001b[0;32m---> 50\u001b[0;31m             \u001b[0mself\u001b[0m\u001b[0;34m.\u001b[0m\u001b[0mnorm_obj\u001b[0m\u001b[0;34m[\u001b[0m\u001b[0mcl\u001b[0m\u001b[0;34m]\u001b[0m \u001b[0;34m=\u001b[0m \u001b[0mmultivariate_normal\u001b[0m\u001b[0;34m(\u001b[0m\u001b[0mmean\u001b[0m\u001b[0;34m=\u001b[0m\u001b[0mself\u001b[0m\u001b[0;34m.\u001b[0m\u001b[0mmeans\u001b[0m\u001b[0;34m[\u001b[0m\u001b[0mcl\u001b[0m\u001b[0;34m]\u001b[0m\u001b[0;34m,\u001b[0m \u001b[0mcov\u001b[0m\u001b[0;34m=\u001b[0m\u001b[0mself\u001b[0m\u001b[0;34m.\u001b[0m\u001b[0mcovariances\u001b[0m\u001b[0;34m[\u001b[0m\u001b[0mcl\u001b[0m\u001b[0;34m]\u001b[0m\u001b[0;34m)\u001b[0m\u001b[0;34m\u001b[0m\u001b[0;34m\u001b[0m\u001b[0m\n\u001b[0m\u001b[1;32m     51\u001b[0m \u001b[0;34m\u001b[0m\u001b[0m\n\u001b[1;32m     52\u001b[0m         \u001b[0;32mfor\u001b[0m \u001b[0mi\u001b[0m\u001b[0;34m,\u001b[0m \u001b[0mpoint\u001b[0m \u001b[0;32min\u001b[0m \u001b[0menumerate\u001b[0m\u001b[0;34m(\u001b[0m\u001b[0mself\u001b[0m\u001b[0;34m.\u001b[0m\u001b[0mX\u001b[0m\u001b[0;34m)\u001b[0m\u001b[0;34m:\u001b[0m\u001b[0;34m\u001b[0m\u001b[0;34m\u001b[0m\u001b[0m\n",
      "\u001b[0;32m/usr/local/anaconda3/lib/python3.8/site-packages/scipy/stats/_multivariate.py\u001b[0m in \u001b[0;36m__call__\u001b[0;34m(self, mean, cov, allow_singular, seed)\u001b[0m\n\u001b[1;32m    363\u001b[0m \u001b[0;34m\u001b[0m\u001b[0m\n\u001b[1;32m    364\u001b[0m         \"\"\"\n\u001b[0;32m--> 365\u001b[0;31m         return multivariate_normal_frozen(mean, cov,\n\u001b[0m\u001b[1;32m    366\u001b[0m                                           \u001b[0mallow_singular\u001b[0m\u001b[0;34m=\u001b[0m\u001b[0mallow_singular\u001b[0m\u001b[0;34m,\u001b[0m\u001b[0;34m\u001b[0m\u001b[0;34m\u001b[0m\u001b[0m\n\u001b[1;32m    367\u001b[0m                                           seed=seed)\n",
      "\u001b[0;32m/usr/local/anaconda3/lib/python3.8/site-packages/scipy/stats/_multivariate.py\u001b[0m in \u001b[0;36m__init__\u001b[0;34m(self, mean, cov, allow_singular, seed, maxpts, abseps, releps)\u001b[0m\n\u001b[1;32m    741\u001b[0m         self.dim, self.mean, self.cov = self._dist._process_parameters(\n\u001b[1;32m    742\u001b[0m                                                             None, mean, cov)\n\u001b[0;32m--> 743\u001b[0;31m         \u001b[0mself\u001b[0m\u001b[0;34m.\u001b[0m\u001b[0mcov_info\u001b[0m \u001b[0;34m=\u001b[0m \u001b[0m_PSD\u001b[0m\u001b[0;34m(\u001b[0m\u001b[0mself\u001b[0m\u001b[0;34m.\u001b[0m\u001b[0mcov\u001b[0m\u001b[0;34m,\u001b[0m \u001b[0mallow_singular\u001b[0m\u001b[0;34m=\u001b[0m\u001b[0mallow_singular\u001b[0m\u001b[0;34m)\u001b[0m\u001b[0;34m\u001b[0m\u001b[0;34m\u001b[0m\u001b[0m\n\u001b[0m\u001b[1;32m    744\u001b[0m         \u001b[0;32mif\u001b[0m \u001b[0;32mnot\u001b[0m \u001b[0mmaxpts\u001b[0m\u001b[0;34m:\u001b[0m\u001b[0;34m\u001b[0m\u001b[0;34m\u001b[0m\u001b[0m\n\u001b[1;32m    745\u001b[0m             \u001b[0mmaxpts\u001b[0m \u001b[0;34m=\u001b[0m \u001b[0;36m1000000\u001b[0m \u001b[0;34m*\u001b[0m \u001b[0mself\u001b[0m\u001b[0;34m.\u001b[0m\u001b[0mdim\u001b[0m\u001b[0;34m\u001b[0m\u001b[0;34m\u001b[0m\u001b[0m\n",
      "\u001b[0;32m/usr/local/anaconda3/lib/python3.8/site-packages/scipy/stats/_multivariate.py\u001b[0m in \u001b[0;36m__init__\u001b[0;34m(self, M, cond, rcond, lower, check_finite, allow_singular)\u001b[0m\n\u001b[1;32m    156\u001b[0m         \u001b[0;31m# Note that eigh takes care of array conversion, chkfinite,\u001b[0m\u001b[0;34m\u001b[0m\u001b[0;34m\u001b[0m\u001b[0;34m\u001b[0m\u001b[0m\n\u001b[1;32m    157\u001b[0m         \u001b[0;31m# and assertion that the matrix is square.\u001b[0m\u001b[0;34m\u001b[0m\u001b[0;34m\u001b[0m\u001b[0;34m\u001b[0m\u001b[0m\n\u001b[0;32m--> 158\u001b[0;31m         \u001b[0ms\u001b[0m\u001b[0;34m,\u001b[0m \u001b[0mu\u001b[0m \u001b[0;34m=\u001b[0m \u001b[0mscipy\u001b[0m\u001b[0;34m.\u001b[0m\u001b[0mlinalg\u001b[0m\u001b[0;34m.\u001b[0m\u001b[0meigh\u001b[0m\u001b[0;34m(\u001b[0m\u001b[0mM\u001b[0m\u001b[0;34m,\u001b[0m \u001b[0mlower\u001b[0m\u001b[0;34m=\u001b[0m\u001b[0mlower\u001b[0m\u001b[0;34m,\u001b[0m \u001b[0mcheck_finite\u001b[0m\u001b[0;34m=\u001b[0m\u001b[0mcheck_finite\u001b[0m\u001b[0;34m)\u001b[0m\u001b[0;34m\u001b[0m\u001b[0;34m\u001b[0m\u001b[0m\n\u001b[0m\u001b[1;32m    159\u001b[0m \u001b[0;34m\u001b[0m\u001b[0m\n\u001b[1;32m    160\u001b[0m         \u001b[0meps\u001b[0m \u001b[0;34m=\u001b[0m \u001b[0m_eigvalsh_to_eps\u001b[0m\u001b[0;34m(\u001b[0m\u001b[0ms\u001b[0m\u001b[0;34m,\u001b[0m \u001b[0mcond\u001b[0m\u001b[0;34m,\u001b[0m \u001b[0mrcond\u001b[0m\u001b[0;34m)\u001b[0m\u001b[0;34m\u001b[0m\u001b[0;34m\u001b[0m\u001b[0m\n",
      "\u001b[0;32m/usr/local/anaconda3/lib/python3.8/site-packages/scipy/linalg/decomp.py\u001b[0m in \u001b[0;36meigh\u001b[0;34m(a, b, lower, eigvals_only, overwrite_a, overwrite_b, turbo, eigvals, type, check_finite, subset_by_index, subset_by_value, driver)\u001b[0m\n\u001b[1;32m    443\u001b[0m                          ''.format(driver, '\", \"'.join(drv_str[1:])))\n\u001b[1;32m    444\u001b[0m \u001b[0;34m\u001b[0m\u001b[0m\n\u001b[0;32m--> 445\u001b[0;31m     \u001b[0ma1\u001b[0m \u001b[0;34m=\u001b[0m \u001b[0m_asarray_validated\u001b[0m\u001b[0;34m(\u001b[0m\u001b[0ma\u001b[0m\u001b[0;34m,\u001b[0m \u001b[0mcheck_finite\u001b[0m\u001b[0;34m=\u001b[0m\u001b[0mcheck_finite\u001b[0m\u001b[0;34m)\u001b[0m\u001b[0;34m\u001b[0m\u001b[0;34m\u001b[0m\u001b[0m\n\u001b[0m\u001b[1;32m    446\u001b[0m     \u001b[0;32mif\u001b[0m \u001b[0mlen\u001b[0m\u001b[0;34m(\u001b[0m\u001b[0ma1\u001b[0m\u001b[0;34m.\u001b[0m\u001b[0mshape\u001b[0m\u001b[0;34m)\u001b[0m \u001b[0;34m!=\u001b[0m \u001b[0;36m2\u001b[0m \u001b[0;32mor\u001b[0m \u001b[0ma1\u001b[0m\u001b[0;34m.\u001b[0m\u001b[0mshape\u001b[0m\u001b[0;34m[\u001b[0m\u001b[0;36m0\u001b[0m\u001b[0;34m]\u001b[0m \u001b[0;34m!=\u001b[0m \u001b[0ma1\u001b[0m\u001b[0;34m.\u001b[0m\u001b[0mshape\u001b[0m\u001b[0;34m[\u001b[0m\u001b[0;36m1\u001b[0m\u001b[0;34m]\u001b[0m\u001b[0;34m:\u001b[0m\u001b[0;34m\u001b[0m\u001b[0;34m\u001b[0m\u001b[0m\n\u001b[1;32m    447\u001b[0m         \u001b[0;32mraise\u001b[0m \u001b[0mValueError\u001b[0m\u001b[0;34m(\u001b[0m\u001b[0;34m'expected square \"a\" matrix'\u001b[0m\u001b[0;34m)\u001b[0m\u001b[0;34m\u001b[0m\u001b[0;34m\u001b[0m\u001b[0m\n",
      "\u001b[0;32m/usr/local/anaconda3/lib/python3.8/site-packages/scipy/_lib/_util.py\u001b[0m in \u001b[0;36m_asarray_validated\u001b[0;34m(a, check_finite, sparse_ok, objects_ok, mask_ok, as_inexact)\u001b[0m\n\u001b[1;32m    261\u001b[0m             \u001b[0;32mraise\u001b[0m \u001b[0mValueError\u001b[0m\u001b[0;34m(\u001b[0m\u001b[0;34m'masked arrays are not supported'\u001b[0m\u001b[0;34m)\u001b[0m\u001b[0;34m\u001b[0m\u001b[0;34m\u001b[0m\u001b[0m\n\u001b[1;32m    262\u001b[0m     \u001b[0mtoarray\u001b[0m \u001b[0;34m=\u001b[0m \u001b[0mnp\u001b[0m\u001b[0;34m.\u001b[0m\u001b[0masarray_chkfinite\u001b[0m \u001b[0;32mif\u001b[0m \u001b[0mcheck_finite\u001b[0m \u001b[0;32melse\u001b[0m \u001b[0mnp\u001b[0m\u001b[0;34m.\u001b[0m\u001b[0masarray\u001b[0m\u001b[0;34m\u001b[0m\u001b[0;34m\u001b[0m\u001b[0m\n\u001b[0;32m--> 263\u001b[0;31m     \u001b[0ma\u001b[0m \u001b[0;34m=\u001b[0m \u001b[0mtoarray\u001b[0m\u001b[0;34m(\u001b[0m\u001b[0ma\u001b[0m\u001b[0;34m)\u001b[0m\u001b[0;34m\u001b[0m\u001b[0;34m\u001b[0m\u001b[0m\n\u001b[0m\u001b[1;32m    264\u001b[0m     \u001b[0;32mif\u001b[0m \u001b[0;32mnot\u001b[0m \u001b[0mobjects_ok\u001b[0m\u001b[0;34m:\u001b[0m\u001b[0;34m\u001b[0m\u001b[0;34m\u001b[0m\u001b[0m\n\u001b[1;32m    265\u001b[0m         \u001b[0;32mif\u001b[0m \u001b[0ma\u001b[0m\u001b[0;34m.\u001b[0m\u001b[0mdtype\u001b[0m \u001b[0;32mis\u001b[0m \u001b[0mnp\u001b[0m\u001b[0;34m.\u001b[0m\u001b[0mdtype\u001b[0m\u001b[0;34m(\u001b[0m\u001b[0;34m'O'\u001b[0m\u001b[0;34m)\u001b[0m\u001b[0;34m:\u001b[0m\u001b[0;34m\u001b[0m\u001b[0;34m\u001b[0m\u001b[0m\n",
      "\u001b[0;32m/usr/local/anaconda3/lib/python3.8/site-packages/numpy/lib/function_base.py\u001b[0m in \u001b[0;36masarray_chkfinite\u001b[0;34m(a, dtype, order)\u001b[0m\n\u001b[1;32m    483\u001b[0m     \u001b[0ma\u001b[0m \u001b[0;34m=\u001b[0m \u001b[0masarray\u001b[0m\u001b[0;34m(\u001b[0m\u001b[0ma\u001b[0m\u001b[0;34m,\u001b[0m \u001b[0mdtype\u001b[0m\u001b[0;34m=\u001b[0m\u001b[0mdtype\u001b[0m\u001b[0;34m,\u001b[0m \u001b[0morder\u001b[0m\u001b[0;34m=\u001b[0m\u001b[0morder\u001b[0m\u001b[0;34m)\u001b[0m\u001b[0;34m\u001b[0m\u001b[0;34m\u001b[0m\u001b[0m\n\u001b[1;32m    484\u001b[0m     \u001b[0;32mif\u001b[0m \u001b[0ma\u001b[0m\u001b[0;34m.\u001b[0m\u001b[0mdtype\u001b[0m\u001b[0;34m.\u001b[0m\u001b[0mchar\u001b[0m \u001b[0;32min\u001b[0m \u001b[0mtypecodes\u001b[0m\u001b[0;34m[\u001b[0m\u001b[0;34m'AllFloat'\u001b[0m\u001b[0;34m]\u001b[0m \u001b[0;32mand\u001b[0m \u001b[0;32mnot\u001b[0m \u001b[0mnp\u001b[0m\u001b[0;34m.\u001b[0m\u001b[0misfinite\u001b[0m\u001b[0;34m(\u001b[0m\u001b[0ma\u001b[0m\u001b[0;34m)\u001b[0m\u001b[0;34m.\u001b[0m\u001b[0mall\u001b[0m\u001b[0;34m(\u001b[0m\u001b[0;34m)\u001b[0m\u001b[0;34m:\u001b[0m\u001b[0;34m\u001b[0m\u001b[0;34m\u001b[0m\u001b[0m\n\u001b[0;32m--> 485\u001b[0;31m         raise ValueError(\n\u001b[0m\u001b[1;32m    486\u001b[0m             \"array must not contain infs or NaNs\")\n\u001b[1;32m    487\u001b[0m     \u001b[0;32mreturn\u001b[0m \u001b[0ma\u001b[0m\u001b[0;34m\u001b[0m\u001b[0;34m\u001b[0m\u001b[0m\n",
      "\u001b[0;31mValueError\u001b[0m: array must not contain infs or NaNs"
     ]
    }
   ],
   "source": [
    "g.fit(X, n_iter=50, )"
   ]
  },
  {
   "cell_type": "code",
   "execution_count": 483,
   "metadata": {},
   "outputs": [
    {
     "data": {
      "text/plain": [
       "((2, 100), (100,))"
      ]
     },
     "execution_count": 483,
     "metadata": {},
     "output_type": "execute_result"
    }
   ],
   "source": [
    "(g.X-g.means[0]).T.shape, g.responsibility[:, 0].shape"
   ]
  },
  {
   "cell_type": "code",
   "execution_count": 534,
   "metadata": {},
   "outputs": [
    {
     "data": {
      "text/plain": [
       "False"
      ]
     },
     "execution_count": 534,
     "metadata": {},
     "output_type": "execute_result"
    }
   ],
   "source": [
    "g.covariances[0]\n",
    "def is_pos_def(x):\n",
    "    return np.all(np.linalg.eigvals(x) > 0)\n",
    "\n",
    "\n",
    "is_pos_def(g.covariances[0])"
   ]
  },
  {
   "cell_type": "code",
   "execution_count": 485,
   "metadata": {},
   "outputs": [
    {
     "name": "stdout",
     "output_type": "stream",
     "text": [
      "[-4.33587111 -2.53063216]\n",
      "[[ 0.03978699 -0.00179734]\n",
      " [-0.00179734  0.04448948]]\n",
      "[3.59279246 3.88614795]\n",
      "[[ 1.00000000e-02 -1.16376359e-19]\n",
      " [-1.16376359e-19  1.00000000e-02]]\n",
      "[-2.32981121  2.42100756]\n",
      "[[ 1.00000000e-02 -1.49028281e-23]\n",
      " [-1.49028281e-23  1.00000000e-02]]\n"
     ]
    },
    {
     "data": {
      "image/png": "[encoded data removed]",
      "text/plain": [
       "<Figure size 432x288 with 1 Axes>"
      ]
     },
     "metadata": {
      "needs_background": "light"
     },
     "output_type": "display_data"
    }
   ],
   "source": [
    "plt.scatter(X[:, 0], X[:, 1],c=y)\n",
    "for pos, covar in zip(list(g.means.values()), list(g.covariances.values())):\n",
    "    print(pos)\n",
    "    print(covar)\n",
    "    draw_ellipse(pos, covar, alpha=0.2)\n"
   ]
  },
  {
   "cell_type": "code",
   "execution_count": null,
   "metadata": {},
   "outputs": [],
   "source": []
  },
  {
   "cell_type": "code",
   "execution_count": 486,
   "metadata": {},
   "outputs": [],
   "source": [
    "from matplotlib.patches import Ellipse\n",
    "\n",
    "def draw_ellipse(position, covariance, ax=None, **kwargs):\n",
    "    \"\"\"Draw an ellipse with a given position and covariance\"\"\"\n",
    "    ax = ax or plt.gca()\n",
    "    \n",
    "    # Convert covariance to principal axes\n",
    "    if covariance.shape == (2, 2):\n",
    "        U, s, Vt = np.linalg.svd(covariance)\n",
    "        angle = np.degrees(np.arctan2(U[1, 0], U[0, 0]))\n",
    "        width, height = 2 * np.sqrt(s)\n",
    "    else:\n",
    "        angle = 0\n",
    "        width, height = 2 * np.sqrt(covariance)\n",
    "    \n",
    "    # Draw the Ellipse\n",
    "    for nsig in range(1, 4):\n",
    "        ax.add_patch(Ellipse(position, nsig * width, nsig * height,\n",
    "                             angle, **kwargs))\n",
    "        \n",
    "def plot_gmm(gmm, X, label=True, ax=None):\n",
    "    ax = ax or plt.gca()\n",
    "    labels = gmm.fit(X).predict(X)\n",
    "    if label:\n",
    "        ax.scatter(X[:, 0], X[:, 1], c=labels, s=40, cmap='viridis', zorder=2)\n",
    "    else:\n",
    "        ax.scatter(X[:, 0], X[:, 1], s=40, zorder=2)\n",
    "    ax.axis('equal')\n",
    "    \n",
    "    w_factor = 0.2 / gmm.weights_.max()\n",
    "    for pos, covar, w in zip(gmm.means_, gmm.covariances_, gmm.weights_):\n",
    "        draw_ellipse(pos, covar, alpha=w * w_factor)"
   ]
  },
  {
   "cell_type": "code",
   "execution_count": 487,
   "metadata": {},
   "outputs": [],
   "source": [
    "from sklearn import mixture\n",
    "model = mixture.GaussianMixture(n_components=3, covariance_type='full')"
   ]
  },
  {
   "cell_type": "code",
   "execution_count": 488,
   "metadata": {},
   "outputs": [
    {
     "data": {
      "image/png": "[encoded data removed]",
      "text/plain": [
       "<Figure size 432x288 with 1 Axes>"
      ]
     },
     "metadata": {
      "needs_background": "light"
     },
     "output_type": "display_data"
    }
   ],
   "source": [
    "plot_gmm(model, X)"
   ]
  },
  {
   "cell_type": "code",
   "execution_count": 489,
   "metadata": {},
   "outputs": [
    {
     "data": {
      "text/plain": [
       "array([[[ 0.08681113,  0.01511591],\n",
       "        [ 0.01511591,  0.07223737]],\n",
       "\n",
       "       [[ 0.0804684 , -0.01724409],\n",
       "        [-0.01724409,  0.08504704]],\n",
       "\n",
       "       [[ 0.08455924, -0.014684  ],\n",
       "        [-0.014684  ,  0.07498469]]])"
      ]
     },
     "execution_count": 489,
     "metadata": {},
     "output_type": "execute_result"
    }
   ],
   "source": [
    "model.covariances_"
   ]
  },
  {
   "cell_type": "code",
   "execution_count": 490,
   "metadata": {},
   "outputs": [
    {
     "data": {
      "text/plain": [
       "array([[-6.35013985,  5.73726495],\n",
       "       [ 3.5985731 ,  3.94672656],\n",
       "       [-4.4152169 , -2.46663426]])"
      ]
     },
     "execution_count": 490,
     "metadata": {},
     "output_type": "execute_result"
    }
   ],
   "source": [
    "model.means_"
   ]
  },
  {
   "cell_type": "code",
   "execution_count": 491,
   "metadata": {},
   "outputs": [
    {
     "data": {
      "text/plain": [
       "{0: array([-4.33587111, -2.53063216]),\n",
       " 1: array([3.59279246, 3.88614795]),\n",
       " 2: array([-2.32981121,  2.42100756])}"
      ]
     },
     "execution_count": 491,
     "metadata": {},
     "output_type": "execute_result"
    }
   ],
   "source": [
    "g.means"
   ]
  },
  {
   "cell_type": "code",
   "execution_count": 474,
   "metadata": {},
   "outputs": [
    {
     "data": {
      "text/plain": [
       "{0: array([[ 0.03978699, -0.00179735],\n",
       "        [-0.00179735,  0.04448948]]),\n",
       " 1: array([[ 1.0000000e-02, -5.4867788e-20],\n",
       "        [-5.4867788e-20,  1.0000000e-02]]),\n",
       " 2: array([[ 1.00000000e-02, -1.35288216e-23],\n",
       "        [-1.35288216e-23,  1.00000000e-02]])}"
      ]
     },
     "execution_count": 474,
     "metadata": {},
     "output_type": "execute_result"
    }
   ],
   "source": [
    "g.covariances"
   ]
  },
  {
   "cell_type": "code",
   "execution_count": null,
   "metadata": {},
   "outputs": [],
   "source": []
  }
 ],
 "metadata": {
  "kernelspec": {
   "display_name": "Python 3",
   "language": "python",
   "name": "python3"
  },
  "language_info": {
   "codemirror_mode": {
    "name": "ipython",
    "version": 3
   },
   "file_extension": ".py",
   "mimetype": "text/x-python",
   "name": "python",
   "nbconvert_exporter": "python",
   "pygments_lexer": "ipython3",
   "version": "3.8.5"
  }
 },
 "nbformat": 4,
 "nbformat_minor": 4
}
