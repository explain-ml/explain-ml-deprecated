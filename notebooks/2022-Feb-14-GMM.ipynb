{
 "cells": [
  {
   "cell_type": "code",
   "execution_count": 21,
   "id": "d082a8db",
   "metadata": {},
   "outputs": [],
   "source": [
    "import torch\n",
    "dist = torch.distributions\n",
    "import matplotlib.pyplot as plt\n",
    "import seaborn as sns\n",
    "%matplotlib inline"
   ]
  },
  {
   "cell_type": "code",
   "execution_count": 61,
   "id": "5e868709",
   "metadata": {},
   "outputs": [],
   "source": [
    "dists = dist.Normal(loc = torch.tensor([-1., 4., 10.]), scale = torch.tensor([2., 1., 1.5]))"
   ]
  },
  {
   "cell_type": "code",
   "execution_count": 73,
   "id": "a763c3c4",
   "metadata": {},
   "outputs": [],
   "source": [
    "mixing = dist.Categorical(probs=torch.tensor([0.5, 0.25, 0.25]))"
   ]
  },
  {
   "cell_type": "code",
   "execution_count": 74,
   "id": "b774d932",
   "metadata": {},
   "outputs": [],
   "source": [
    "mixture = dist.MixtureSameFamily(mixture_distribution=mixing, component_distribution=dists)"
   ]
  },
  {
   "cell_type": "code",
   "execution_count": 76,
   "id": "a2cdd2f3",
   "metadata": {},
   "outputs": [],
   "source": [
    "samples = mixture.sample([2000])"
   ]
  },
  {
   "cell_type": "code",
   "execution_count": 77,
   "id": "7090f9f5",
   "metadata": {},
   "outputs": [
    {
     "data": {
      "text/plain": [
       "<AxesSubplot:ylabel='Density'>"
      ]
     },
     "execution_count": 77,
     "metadata": {},
     "output_type": "execute_result"
    },
    {
     "data": {
      "image/png": "[encoded data removed]",
      "text/plain": [
       "<Figure size 432x288 with 1 Axes>"
      ]
     },
     "metadata": {
      "needs_background": "light"
     },
     "output_type": "display_data"
    }
   ],
   "source": [
    "sns.kdeplot(samples, bw_adjust=2)"
   ]
  },
  {
   "cell_type": "code",
   "execution_count": 96,
   "id": "31737251",
   "metadata": {},
   "outputs": [
    {
     "name": "stdout",
     "output_type": "stream",
     "text": [
      "Iteration: 0, Loss: 16368.27\n",
      "Iteration: 10, Loss: 10628.43\n",
      "Iteration: 20, Loss: 8328.17\n",
      "Iteration: 30, Loss: 7339.84\n",
      "Iteration: 40, Loss: 6849.51\n",
      "Iteration: 50, Loss: 6566.24\n",
      "Iteration: 60, Loss: 6376.24\n",
      "Iteration: 70, Loss: 6226.55\n",
      "Iteration: 80, Loss: 6086.78\n",
      "Iteration: 90, Loss: 5958.18\n",
      "Iteration: 100, Loss: 5888.01\n"
     ]
    },
    {
     "name": "stderr",
     "output_type": "stream",
     "text": [
      "/var/folders/1x/wmgn24mn1bbd2vgbqlk98tbc0000gn/T/ipykernel_48017/2345747116.py:17: UserWarning: Implicit dimension choice for softmax has been deprecated. Change the call to include dim=X as an argument.\n",
      "  mix_softmax = torch.functional.F.softmax(mix)\n"
     ]
    }
   ],
   "source": [
    "to_learn_locs = torch.tensor([0.0, 1.0, 2.0], requires_grad=True)\n",
    "to_learn_scales = torch.tensor([1.0, 1.0, 1.0], requires_grad=True)\n",
    "to_learn_scales_softplus = torch.functional.F.softplus(to_learn_scales)\n",
    "to_learn_dists = dist.Normal(loc=to_learn_locs, scale=to_learn_scales_softplus)\n",
    "\n",
    "to_learn_mix = torch.tensor([0.3, 0.4, 0.2], requires_grad=True)\n",
    "\n",
    "to_learn_mixture = dist.Categorical(probs=to_learn_mix)\n",
    "overall = dist.MixtureSameFamily(\n",
    "    mixture_distribution=to_learn_mixture, component_distribution=to_learn_dists\n",
    ")\n",
    "\n",
    "\n",
    "def nll(loc, scale, mix):\n",
    "    to_learn_scales_softplus = torch.functional.F.softplus(scale)\n",
    "    to_learn_dists = dist.Normal(loc=loc, scale=to_learn_scales_softplus)\n",
    "    mix_softmax = torch.functional.F.softmax(mix)\n",
    "    to_learn_mixture = dist.Categorical(probs=mix_softmax)\n",
    "    overall = dist.MixtureSameFamily(\n",
    "        mixture_distribution=to_learn_mixture, component_distribution=to_learn_dists\n",
    "    )\n",
    "    return -torch.sum(overall.log_prob(samples))\n",
    "\n",
    "\n",
    "opt = torch.optim.Adam([to_learn_locs, to_learn_scales, to_learn_mix], lr=0.05)\n",
    "for i in range(101):\n",
    "    loss =nll(to_learn_locs, to_learn_scales, to_learn_mix)\n",
    "    if i % 10 == 0:\n",
    "        print(f\"Iteration: {i}, Loss: {loss.item():0.2f}\")\n",
    "    loss.backward()\n",
    "    # loc_array.append(theta_learn_loc)\n",
    "    # loss_array.append(loss_val.item())\n",
    "\n",
    "    opt.step()\n",
    "    opt.zero_grad()"
   ]
  },
  {
   "cell_type": "code",
   "execution_count": 97,
   "id": "d30f7e40",
   "metadata": {},
   "outputs": [
    {
     "data": {
      "text/plain": [
       "tensor([-1.6593,  6.8915,  4.1946], requires_grad=True)"
      ]
     },
     "execution_count": 97,
     "metadata": {},
     "output_type": "execute_result"
    }
   ],
   "source": [
    "to_learn_locs"
   ]
  },
  {
   "cell_type": "code",
   "execution_count": 100,
   "id": "d52da1ea",
   "metadata": {},
   "outputs": [
    {
     "data": {
      "text/plain": [
       "tensor([1.4718, 3.8919, 2.9224], requires_grad=True)"
      ]
     },
     "execution_count": 100,
     "metadata": {},
     "output_type": "execute_result"
    }
   ],
   "source": [
    "to_learn_scales"
   ]
  },
  {
   "cell_type": "code",
   "execution_count": 102,
   "id": "82b52ab5",
   "metadata": {},
   "outputs": [
    {
     "data": {
      "text/plain": [
       "tensor([0.3407, 0.3356, 0.1757], requires_grad=True)"
      ]
     },
     "execution_count": 102,
     "metadata": {},
     "output_type": "execute_result"
    }
   ],
   "source": [
    "s"
   ]
  },
  {
   "cell_type": "code",
   "execution_count": 104,
   "id": "4be5da07",
   "metadata": {},
   "outputs": [
    {
     "name": "stderr",
     "output_type": "stream",
     "text": [
      "/var/folders/1x/wmgn24mn1bbd2vgbqlk98tbc0000gn/T/ipykernel_48017/1334526509.py:1: UserWarning: Implicit dimension choice for softmax has been deprecated. Change the call to include dim=X as an argument.\n",
      "  torch.functional.F.softmax(to_learn_mix)\n"
     ]
    },
    {
     "data": {
      "text/plain": [
       "tensor([0.3518, 0.3500, 0.2983], grad_fn=<SoftmaxBackward0>)"
      ]
     },
     "execution_count": 104,
     "metadata": {},
     "output_type": "execute_result"
    }
   ],
   "source": [
    "torch.functional.F.softmax(to_learn_mix)"
   ]
  },
  {
   "cell_type": "code",
   "execution_count": null,
   "id": "9a918753",
   "metadata": {},
   "outputs": [],
   "source": []
  }
 ],
 "metadata": {
  "kernelspec": {
   "display_name": "Python 3 (ipykernel)",
   "language": "python",
   "name": "python3"
  },
  "language_info": {
   "codemirror_mode": {
    "name": "ipython",
    "version": 3
   },
   "file_extension": ".py",
   "mimetype": "text/x-python",
   "name": "python",
   "nbconvert_exporter": "python",
   "pygments_lexer": "ipython3",
   "version": "3.9.7"
  }
 },
 "nbformat": 4,
 "nbformat_minor": 5
}
