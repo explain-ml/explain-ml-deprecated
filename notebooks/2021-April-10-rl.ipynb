{
 "cells": [
  {
   "cell_type": "code",
   "execution_count": 2,
   "metadata": {},
   "outputs": [],
   "source": [
    "import numpy as np\n",
    "import matplotlib.pyplot as plt"
   ]
  },
  {
   "cell_type": "code",
   "execution_count": 3,
   "metadata": {},
   "outputs": [],
   "source": [
    "grid = np.zeros((4, 4))"
   ]
  },
  {
   "cell_type": "code",
   "execution_count": 91,
   "metadata": {},
   "outputs": [
    {
     "data": {
      "text/plain": [
       "array([[0., 0., 0., 0.],\n",
       "       [0., 0., 0., 0.],\n",
       "       [0., 0., 0., 0.],\n",
       "       [0., 0., 0., 0.]])"
      ]
     },
     "execution_count": 91,
     "metadata": {},
     "output_type": "execute_result"
    }
   ],
   "source": [
    "grid"
   ]
  },
  {
   "cell_type": "code",
   "execution_count": 107,
   "metadata": {},
   "outputs": [],
   "source": [
    "def actions(row, col):\n",
    "    pos = []\n",
    "    if row - 1 >=0:\n",
    "        pos.append('up')\n",
    "    if col - 1 >= 0:\n",
    "        pos.append('left')\n",
    "    if row +1 <=3:\n",
    "        pos.append('down')\n",
    "    if col+1  <= 3:\n",
    "        pos.append('right')\n",
    "    return pos"
   ]
  },
  {
   "cell_type": "code",
   "execution_count": 108,
   "metadata": {},
   "outputs": [],
   "source": [
    "row, col = np.random.choice(4, 2)"
   ]
  },
  {
   "cell_type": "code",
   "execution_count": 153,
   "metadata": {},
   "outputs": [],
   "source": [
    "def simulate(row, col, print_v=False):\n",
    "    count = 0\n",
    "    if print_v:\n",
    "        print([row, col], end=\" \")\n",
    "    done = False\n",
    "    \n",
    "    while not done:\n",
    "        if row==0 and col==0:\n",
    "            done = True\n",
    "        if row==3 and col==3:\n",
    "            done = True\n",
    "        pos = actions(row, col)\n",
    "        act = np.random.choice(pos)\n",
    "        if act =='up':\n",
    "            row = row - 1\n",
    "            if print_v: print(\"^\", end=\" \")\n",
    "        elif act == 'down':\n",
    "            row = row + 1\n",
    "            if print_v: print(\"v\", end=\" \")\n",
    "        elif act =='left':\n",
    "            col = col - 1\n",
    "            if print_v: print(\"<\", end= \" \")\n",
    "        else:\n",
    "            col = col + 1\n",
    "            if print_v: print(\">\", end= \" \")\n",
    "        if print_v: print([row, col], end = \" \")\n",
    "        count = count + 1\n",
    "    return count-1\n",
    "    \n"
   ]
  },
  {
   "cell_type": "code",
   "execution_count": 175,
   "metadata": {},
   "outputs": [
    {
     "name": "stdout",
     "output_type": "stream",
     "text": [
      "[1, 0] ^ [0, 0] v [1, 0] "
     ]
    },
    {
     "data": {
      "text/plain": [
       "1"
      ]
     },
     "execution_count": 175,
     "metadata": {},
     "output_type": "execute_result"
    }
   ],
   "source": [
    "simulate(1, 0, True)"
   ]
  },
  {
   "cell_type": "code",
   "execution_count": 167,
   "metadata": {},
   "outputs": [],
   "source": [
    "def calc_avg(row, col, niter=50000):\n",
    "    x = []\n",
    "    for a in range(niter):\n",
    "        x.append(simulate(row, col))\n",
    "    return np.mean(x)"
   ]
  },
  {
   "cell_type": "code",
   "execution_count": 172,
   "metadata": {},
   "outputs": [
    {
     "name": "stdout",
     "output_type": "stream",
     "text": [
      "0 0 0.0\n",
      "0 1 11.07568\n",
      "0 2 15.56032\n",
      "0 3 16.48412\n",
      "1 0 10.95056\n",
      "1 1 14.38384\n",
      "1 2 16.08276\n",
      "1 3 15.503\n",
      "2 0 15.49768\n",
      "2 1 16.10348\n",
      "2 2 14.55796\n",
      "2 3 11.00292\n",
      "3 0 16.37508\n",
      "3 1 15.61148\n",
      "3 2 10.96964\n",
      "3 3 0.0\n"
     ]
    }
   ],
   "source": [
    "for row in range(4):\n",
    "    for col in range(4):\n",
    "        grid[row,col] = calc(row, col)\n",
    "        print(row, col,grid[row, col])"
   ]
  },
  {
   "cell_type": "code",
   "execution_count": 198,
   "metadata": {},
   "outputs": [
    {
     "data": {
      "text/plain": [
       "<matplotlib.axes._subplots.AxesSubplot at 0x7fd6176576a0>"
      ]
     },
     "execution_count": 198,
     "metadata": {},
     "output_type": "execute_result"
    },
    {
     "data": {
      "image/png": "[encoded data removed]",
      "text/plain": [
       "<Figure size 432x288 with 2 Axes>"
      ]
     },
     "metadata": {
      "needs_background": "light"
     },
     "output_type": "display_data"
    }
   ],
   "source": [
    "import seaborn as sns\n",
    "sns.heatmap(grid, annot=True, fmt='0.1f',)"
   ]
  },
  {
   "cell_type": "code",
   "execution_count": 179,
   "metadata": {},
   "outputs": [],
   "source": [
    "def calc_min(row, col, niter=50000):\n",
    "    x = []\n",
    "    for a in range(niter):\n",
    "        x.append(simulate(row, col))\n",
    "    return np.min(x)"
   ]
  },
  {
   "cell_type": "code",
   "execution_count": 182,
   "metadata": {},
   "outputs": [
    {
     "name": "stdout",
     "output_type": "stream",
     "text": [
      "0 0 0.0\n",
      "0 1 1.0\n",
      "0 2 2.0\n",
      "0 3 3.0\n",
      "1 0 1.0\n",
      "1 1 2.0\n",
      "1 2 3.0\n",
      "1 3 2.0\n",
      "2 0 2.0\n",
      "2 1 3.0\n",
      "2 2 2.0\n",
      "2 3 1.0\n",
      "3 0 3.0\n",
      "3 1 2.0\n",
      "3 2 1.0\n",
      "3 3 0.0\n"
     ]
    }
   ],
   "source": [
    "\n",
    "grid2 = np.zeros((4, 4))\n",
    "for row in range(4):\n",
    "    for col in range(4):\n",
    "        grid2[row,col] = calc_min(row, col, niter=1000)\n",
    "        print(row, col,grid2[row, col])"
   ]
  },
  {
   "cell_type": "code",
   "execution_count": 199,
   "metadata": {},
   "outputs": [
    {
     "data": {
      "text/plain": [
       "<matplotlib.axes._subplots.AxesSubplot at 0x7fd617789eb0>"
      ]
     },
     "execution_count": 199,
     "metadata": {},
     "output_type": "execute_result"
    },
    {
     "data": {
      "image/png": "[encoded data removed]",
      "text/plain": [
       "<Figure size 432x288 with 2 Axes>"
      ]
     },
     "metadata": {
      "needs_background": "light"
     },
     "output_type": "display_data"
    }
   ],
   "source": [
    "sns.heatmap(grid2, annot=True)"
   ]
  },
  {
   "cell_type": "code",
   "execution_count": null,
   "metadata": {},
   "outputs": [],
   "source": []
  }
 ],
 "metadata": {
  "kernelspec": {
   "display_name": "Python 3",
   "language": "python",
   "name": "python3"
  },
  "language_info": {
   "codemirror_mode": {
    "name": "ipython",
    "version": 3
   },
   "file_extension": ".py",
   "mimetype": "text/x-python",
   "name": "python",
   "nbconvert_exporter": "python",
   "pygments_lexer": "ipython3",
   "version": "3.8.3"
  }
 },
 "nbformat": 4,
 "nbformat_minor": 4
}
